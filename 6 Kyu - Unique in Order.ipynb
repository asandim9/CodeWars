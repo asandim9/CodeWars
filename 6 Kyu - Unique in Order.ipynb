{
 "cells": [
  {
   "cell_type": "code",
   "execution_count": null,
   "metadata": {},
   "outputs": [],
   "source": [
    "def unique_in_order(iterable):\n",
    "    a = []\n",
    "    for i in iterable:\n",
    "        #if i not in a:\n",
    "        a.append(i)\n",
    "    \n",
    "    \n",
    "    \n",
    "    c = []\n",
    "    if len(a) == 0:\n",
    "        c = []\n",
    "    else:\n",
    "        c.append(a[0])\n",
    "        for j in range(0,(len(a)-1)):\n",
    "            if a[j] != a[j+1]:\n",
    "                c.append(a[j+1])\n",
    "    \n",
    "                \n",
    "    return c"
   ]
  }
 ],
 "metadata": {
  "kernelspec": {
   "display_name": "Python 3",
   "language": "python",
   "name": "python3"
  },
  "language_info": {
   "codemirror_mode": {
    "name": "ipython",
    "version": 3
   },
   "file_extension": ".py",
   "mimetype": "text/x-python",
   "name": "python",
   "nbconvert_exporter": "python",
   "pygments_lexer": "ipython3",
   "version": "3.7.3"
  }
 },
 "nbformat": 4,
 "nbformat_minor": 2
}
