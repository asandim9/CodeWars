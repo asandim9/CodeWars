{
 "cells": [
  {
   "cell_type": "code",
   "execution_count": null,
   "metadata": {},
   "outputs": [],
   "source": [
    "def solve(n):\n",
    "    a1 = [\"0\"]\n",
    "    a2 = [\"01\"]\n",
    "    a = []\n",
    "    for i in range(0,n+1):\n",
    "        if(i == 0):\n",
    "            a = a1\n",
    "        elif(i==1):\n",
    "            a = a2\n",
    "        else:\n",
    "            a = a2 + a1\n",
    "            a1 = a2\n",
    "            a2 = a\n",
    "        \n",
    "    return (''.join(map(str,a)))"
   ]
  }
 ],
 "metadata": {
  "kernelspec": {
   "display_name": "Python 3",
   "language": "python",
   "name": "python3"
  },
  "language_info": {
   "codemirror_mode": {
    "name": "ipython",
    "version": 3
   },
   "file_extension": ".py",
   "mimetype": "text/x-python",
   "name": "python",
   "nbconvert_exporter": "python",
   "pygments_lexer": "ipython3",
   "version": "3.7.3"
  }
 },
 "nbformat": 4,
 "nbformat_minor": 2
}
